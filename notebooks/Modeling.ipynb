{
 "cells": [
  {
   "cell_type": "code",
   "execution_count": 1,
   "metadata": {},
   "outputs": [],
   "source": [
    "#load python packages\n",
    "import os\n",
    "import pandas as pd\n",
    "import matplotlib.pyplot as plt\n",
    "import seaborn as sns\n",
    "import numpy as np\n",
    "from sklearn.naive_bayes import MultinomialNB\n",
    "from sklearn.linear_model import LogisticRegression\n",
    "from sklearn.ensemble import RandomForestClassifier\n",
    "from sklearn import metrics\n",
    "from sklearn.feature_extraction.text import CountVectorizer\n",
    "from sklearn.model_selection import cross_val_score"
   ]
  },
  {
   "cell_type": "code",
   "execution_count": 2,
   "metadata": {},
   "outputs": [],
   "source": [
    "#This is a hack to cut down on the pandas/sklearn warnings.\n",
    "#My notebook runs fine so I wanted to make it more readable.\n",
    "def warn(*args, **kwargs):\n",
    "    pass\n",
    "import warnings\n",
    "warnings.warn = warn"
   ]
  },
  {
   "cell_type": "code",
   "execution_count": 3,
   "metadata": {},
   "outputs": [],
   "source": [
    "def get_file(file_name):\n",
    "    path = os.getcwd()\n",
    "    path += \"/../data/processed/\"+file_name\n",
    "    #have to eval text columns (which are currently lists of strings) or pandas will read a list as one big string instead\n",
    "    df = pd.read_csv(path, index_col='job_id',\\\n",
    "                     converters={'company_profile': eval,'description': eval, 'requirements':eval})\n",
    "    return df"
   ]
  },
  {
   "cell_type": "code",
   "execution_count": 4,
   "metadata": {},
   "outputs": [],
   "source": [
    "X_train = get_file('fake_job_postings_X_train.csv')\n",
    "y_train = get_file('fake_job_postings_y_train.csv')\n",
    "X_test = get_file('fake_job_postings_X_test.csv')\n",
    "y_test = get_file('fake_job_postings_y_test.csv')"
   ]
  },
  {
   "cell_type": "markdown",
   "metadata": {},
   "source": [
    "Model: Naive Bayes"
   ]
  },
  {
   "cell_type": "code",
   "execution_count": 5,
   "metadata": {},
   "outputs": [],
   "source": [
    "def MultinomialNB_predict(df_col,y):\n",
    "    df_col_together = df_col.str.join(sep=' ')\n",
    "    cv = CountVectorizer()\n",
    "    df_col_tf = cv.fit_transform(df_col_together)\n",
    "    mnb = MultinomialNB()\n",
    "    return cross_val_score(mnb,df_col_tf,y, n_jobs=-1, scoring='f1').mean()"
   ]
  },
  {
   "cell_type": "code",
   "execution_count": 6,
   "metadata": {},
   "outputs": [
    {
     "name": "stdout",
     "output_type": "stream",
     "text": [
      "feature: company_profile\n",
      "F1: 0.3661781462868491\n",
      "\n",
      "feature: description\n",
      "F1: 0.36058733496247414\n",
      "\n",
      "feature: requirements\n",
      "F1: 0.21513278384806314\n",
      "\n"
     ]
    }
   ],
   "source": [
    "word_features = ['company_profile', 'description', 'requirements'] \n",
    "for feature in word_features:\n",
    "    print('feature: '+feature+'\\nF1: ' +str(MultinomialNB_predict(X_train[feature],y_train))+'\\n')"
   ]
  },
  {
   "cell_type": "code",
   "execution_count": 7,
   "metadata": {},
   "outputs": [
    {
     "name": "stdout",
     "output_type": "stream",
     "text": [
      "feature: all text combined\n",
      "F1: 0.45366096507074855\n",
      "\n"
     ]
    }
   ],
   "source": [
    "combined_text_cols = X_train['company_profile']+ X_train['description']+ X_train['requirements']\n",
    "print('feature: '+'all text combined'+'\\nF1: ' +str(MultinomialNB_predict(combined_text_cols,y_train))+'\\n')"
   ]
  },
  {
   "cell_type": "markdown",
   "metadata": {},
   "source": [
    "Model: Logistic Regression"
   ]
  },
  {
   "cell_type": "code",
   "execution_count": 8,
   "metadata": {},
   "outputs": [
    {
     "data": {
      "text/plain": [
       "0.34650865035930445"
      ]
     },
     "execution_count": 8,
     "metadata": {},
     "output_type": "execute_result"
    }
   ],
   "source": [
    "X_train_no_words = X_train.drop(word_features, axis=1)\n",
    "logreg_model = LogisticRegression()\n",
    "cross_val_score(logreg_model,X_train_no_words,y_train, n_jobs=-1, scoring='f1').mean()"
   ]
  },
  {
   "cell_type": "markdown",
   "metadata": {},
   "source": [
    "Model: Random Forest"
   ]
  },
  {
   "cell_type": "code",
   "execution_count": 9,
   "metadata": {},
   "outputs": [
    {
     "name": "stderr",
     "output_type": "stream",
     "text": [
      "/home/joe/anaconda3/lib/python3.7/site-packages/sklearn/model_selection/_validation.py:515: DataConversionWarning: A column-vector y was passed when a 1d array was expected. Please change the shape of y to (n_samples,), for example using ravel().\n",
      "  estimator.fit(X_train, y_train, **fit_params)\n",
      "/home/joe/anaconda3/lib/python3.7/site-packages/sklearn/model_selection/_validation.py:515: DataConversionWarning: A column-vector y was passed when a 1d array was expected. Please change the shape of y to (n_samples,), for example using ravel().\n",
      "  estimator.fit(X_train, y_train, **fit_params)\n",
      "/home/joe/anaconda3/lib/python3.7/site-packages/sklearn/model_selection/_validation.py:515: DataConversionWarning: A column-vector y was passed when a 1d array was expected. Please change the shape of y to (n_samples,), for example using ravel().\n",
      "  estimator.fit(X_train, y_train, **fit_params)\n",
      "/home/joe/anaconda3/lib/python3.7/site-packages/sklearn/model_selection/_validation.py:515: DataConversionWarning: A column-vector y was passed when a 1d array was expected. Please change the shape of y to (n_samples,), for example using ravel().\n",
      "  estimator.fit(X_train, y_train, **fit_params)\n",
      "/home/joe/anaconda3/lib/python3.7/site-packages/sklearn/model_selection/_validation.py:515: DataConversionWarning: A column-vector y was passed when a 1d array was expected. Please change the shape of y to (n_samples,), for example using ravel().\n",
      "  estimator.fit(X_train, y_train, **fit_params)\n"
     ]
    },
    {
     "data": {
      "text/plain": [
       "0.7130882941573236"
      ]
     },
     "execution_count": 9,
     "metadata": {},
     "output_type": "execute_result"
    }
   ],
   "source": [
    "randforest_model = RandomForestClassifier()\n",
    "cross_val_score(randforest_model,X_train_no_words,y_train, n_jobs=-1, scoring='f1').mean()"
   ]
  },
  {
   "cell_type": "markdown",
   "metadata": {},
   "source": [
    "Conclusion: Best model and performance on hold-out data"
   ]
  },
  {
   "cell_type": "markdown",
   "metadata": {},
   "source": [
    "Our best model so far (measured by F1 score) has been the out of the box RandomForestClassifier from sklearn, using the non-word data. I'd like to end the modelling section by training this model on all of our training data and then scoring based on the test data."
   ]
  },
  {
   "cell_type": "code",
   "execution_count": 10,
   "metadata": {},
   "outputs": [
    {
     "name": "stderr",
     "output_type": "stream",
     "text": [
      "/home/joe/anaconda3/lib/python3.7/site-packages/ipykernel_launcher.py:2: DataConversionWarning: A column-vector y was passed when a 1d array was expected. Please change the shape of y to (n_samples,), for example using ravel().\n",
      "  \n"
     ]
    },
    {
     "name": "stdout",
     "output_type": "stream",
     "text": [
      "              precision    recall  f1-score   support\n",
      "\n",
      "           0       0.98      1.00      0.99      3777\n",
      "           1       0.97      0.59      0.73       196\n",
      "\n",
      "    accuracy                           0.98      3973\n",
      "   macro avg       0.97      0.80      0.86      3973\n",
      "weighted avg       0.98      0.98      0.98      3973\n",
      "\n"
     ]
    }
   ],
   "source": [
    "final_model = RandomForestClassifier()\n",
    "final_model.fit(X_train_no_words, y_train)\n",
    "X_test_no_words = X_test.drop(word_features, axis=1)\n",
    "y_pred = final_model.predict(X_test_no_words)\n",
    "print(metrics.classification_report(y_test, y_pred))"
   ]
  },
  {
   "cell_type": "code",
   "execution_count": 11,
   "metadata": {},
   "outputs": [
    {
     "name": "stdout",
     "output_type": "stream",
     "text": [
      "[[3773    4]\n",
      " [  80  116]]\n"
     ]
    }
   ],
   "source": [
    "print(metrics.confusion_matrix(y_test,y_pred))"
   ]
  },
  {
   "cell_type": "markdown",
   "metadata": {},
   "source": [
    "The performance is about as good as I was hoping for!"
   ]
  },
  {
   "cell_type": "code",
   "execution_count": 27,
   "metadata": {},
   "outputs": [
    {
     "name": "stdout",
     "output_type": "stream",
     "text": [
      "Feature ranking:\n",
      "1. feature description_length (0.129250)\n",
      "2. feature company_profile_length (0.108250)\n",
      "3. feature requirements_length (0.105511)\n",
      "4. feature has_company_logo (0.046858)\n",
      "5. feature title_data (0.031137)\n",
      "6. feature has_benefits (0.028322)\n",
      "7. feature has_department (0.025121)\n",
      "8. feature function_Administrative (0.024366)\n",
      "9. feature has_questions (0.024172)\n",
      "10. feature has_required_experience (0.021834)\n",
      "11. feature Country_US (0.018993)\n",
      "12. feature has_salary_range (0.018954)\n",
      "13. feature has_required_education (0.016935)\n",
      "14. feature State_Other (0.016856)\n",
      "15. feature function_Other (0.016587)\n",
      "16. feature industry_Other (0.015864)\n",
      "17. feature employment_type_Part-time (0.015566)\n",
      "18. feature employment_type_Full-time (0.014963)\n",
      "19. feature function_Engineering (0.014862)\n",
      "20. feature City_  (0.013349)\n",
      "21. feature State_ CA (0.012292)\n",
      "22. feature City_Other (0.011942)\n",
      "23. feature employment_type_Other (0.011622)\n",
      "24. feature Country_Other (0.009854)\n",
      "25. feature industry_Hospital & Health Care (0.009772)\n",
      "26. feature title_assistant (0.009399)\n",
      "27. feature telecommuting (0.009366)\n",
      "28. feature title_engineer (0.009276)\n",
      "29. feature title_manager (0.009008)\n",
      "30. feature function_Customer Service (0.008824)\n",
      "31. feature industry_Marketing and Advertising (0.008785)\n",
      "32. feature employment_type_Contract (0.008774)\n",
      "33. feature State_ NY (0.008470)\n",
      "34. feature State_  (0.008172)\n",
      "35. feature title_sales (0.008061)\n",
      "36. feature title_developer (0.007324)\n",
      "37. feature title_director (0.007322)\n",
      "38. feature title_representative (0.007199)\n",
      "39. feature title_customer (0.006964)\n",
      "40. feature function_Sales (0.006958)\n",
      "41. feature title_service (0.006907)\n",
      "42. feature industry_Financial Services (0.006576)\n",
      "43. feature title_project (0.006491)\n",
      "44. feature function_Information Technology (0.005818)\n",
      "45. feature Country_GB (0.005587)\n",
      "46. feature industry_Information Technology and Services (0.005466)\n",
      "47. feature industry_Consumer Services (0.005151)\n",
      "48. feature industry_Telecommunications (0.004975)\n",
      "49. feature title_specialist (0.004284)\n",
      "50. feature industry_Computer Software (0.004093)\n",
      "51. feature title_executive (0.003783)\n",
      "52. feature title_senior (0.003606)\n",
      "53. feature title_associate (0.003551)\n",
      "54. feature title_account (0.003198)\n",
      "55. feature title_lead (0.003106)\n",
      "56. feature City_ New York (0.003079)\n",
      "57. feature title_marketing (0.003050)\n",
      "58. feature title_development (0.002787)\n",
      "59. feature title_software (0.002727)\n",
      "60. feature title_analyst (0.002485)\n",
      "61. feature function_Marketing (0.002442)\n",
      "62. feature Country_GR (0.002189)\n",
      "63. feature title_consultant (0.002174)\n",
      "64. feature Country_CA (0.002102)\n",
      "65. feature title_business (0.002022)\n",
      "66. feature industry_Internet (0.001919)\n",
      "67. feature title_web (0.001475)\n",
      "68. feature title_support (0.001462)\n",
      "69. feature State_ LND (0.001388)\n",
      "70. feature title_product (0.001368)\n",
      "71. feature title_intern (0.001238)\n",
      "72. feature title_designer (0.001102)\n",
      "73. feature function_Design (0.001043)\n",
      "74. feature function_Health Care Provider (0.000937)\n",
      "75. feature City_ London (0.000918)\n",
      "76. feature employment_type_Temporary (0.000768)\n",
      "77. feature City_ Athens (0.000589)\n",
      "78. feature function_Education (0.000584)\n",
      "79. feature title_teacher (0.000430)\n"
     ]
    }
   ],
   "source": [
    "importances = final_model.feature_importances_\n",
    "indices = np.argsort(importances)[::-1]\n",
    "print(\"Feature ranking:\")\n",
    "\n",
    "for f in range(X_train_no_words.shape[1]):\n",
    "    print(\"%d. feature %s (%f)\" % (f + 1, list(X_train_no_words.columns)[(indices[f])], importances[indices[f]]))"
   ]
  }
 ],
 "metadata": {
  "kernelspec": {
   "display_name": "Python 3",
   "language": "python",
   "name": "python3"
  },
  "language_info": {
   "codemirror_mode": {
    "name": "ipython",
    "version": 3
   },
   "file_extension": ".py",
   "mimetype": "text/x-python",
   "name": "python",
   "nbconvert_exporter": "python",
   "pygments_lexer": "ipython3",
   "version": "3.7.6"
  }
 },
 "nbformat": 4,
 "nbformat_minor": 4
}
