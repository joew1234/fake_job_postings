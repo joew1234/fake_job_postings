{
 "cells": [
  {
   "cell_type": "code",
   "execution_count": 1,
   "metadata": {},
   "outputs": [],
   "source": [
    "#load python packages\n",
    "import os\n",
    "import pandas as pd\n",
    "import matplotlib.pyplot as plt\n",
    "import seaborn as sns\n",
    "import numpy as np\n",
    "from sklearn.naive_bayes import MultinomialNB\n",
    "from sklearn.linear_model import LogisticRegression\n",
    "from sklearn.ensemble import RandomForestClassifier\n",
    "from sklearn import metrics\n",
    "from sklearn.feature_extraction.text import CountVectorizer\n",
    "from sklearn.model_selection import cross_val_score"
   ]
  },
  {
   "cell_type": "code",
   "execution_count": 2,
   "metadata": {},
   "outputs": [],
   "source": [
    "#This is a hack to cut down on the pandas/sklearn warnings.\n",
    "#My notebook runs fine so I wanted to make it more readable.\n",
    "def warn(*args, **kwargs):\n",
    "    pass\n",
    "import warnings\n",
    "warnings.warn = warn"
   ]
  },
  {
   "cell_type": "code",
   "execution_count": 3,
   "metadata": {},
   "outputs": [],
   "source": [
    "def get_file(file_name):\n",
    "    path = os.getcwd()\n",
    "    path += \"/../data/processed/\"+file_name\n",
    "    #have to eval text columns (which are currently lists of strings) or pandas will read a list as one big string instead\n",
    "    df = pd.read_csv(path, index_col='job_id',\\\n",
    "                     converters={'company_profile': eval,'description': eval, 'requirements':eval})\n",
    "    return df"
   ]
  },
  {
   "cell_type": "code",
   "execution_count": 4,
   "metadata": {},
   "outputs": [],
   "source": [
    "X_train = get_file('fake_job_postings_X_train.csv')\n",
    "y_train = get_file('fake_job_postings_y_train.csv')\n",
    "X_test = get_file('fake_job_postings_X_test.csv')\n",
    "y_test = get_file('fake_job_postings_y_test.csv')"
   ]
  },
  {
   "cell_type": "markdown",
   "metadata": {},
   "source": [
    "Model: Naive Bayes"
   ]
  },
  {
   "cell_type": "code",
   "execution_count": 5,
   "metadata": {},
   "outputs": [],
   "source": [
    "def MultinomialNB_predict(df_col,y):\n",
    "    df_col_together = df_col.str.join(sep=' ')\n",
    "    cv = CountVectorizer()\n",
    "    df_col_tf = cv.fit_transform(df_col_together)\n",
    "    mnb = MultinomialNB()\n",
    "    return cross_val_score(mnb,df_col_tf,y, n_jobs=-1, scoring='f1').mean()"
   ]
  },
  {
   "cell_type": "code",
   "execution_count": 6,
   "metadata": {},
   "outputs": [
    {
     "name": "stdout",
     "output_type": "stream",
     "text": [
      "feature: company_profile\n",
      "F1: 0.3661781462868491\n",
      "\n",
      "feature: description\n",
      "F1: 0.36058733496247414\n",
      "\n",
      "feature: requirements\n",
      "F1: 0.21513278384806314\n",
      "\n"
     ]
    }
   ],
   "source": [
    "word_features = ['company_profile', 'description', 'requirements'] \n",
    "for feature in word_features:\n",
    "    print('feature: '+feature+'\\nF1: ' +str(MultinomialNB_predict(X_train[feature],y_train))+'\\n')"
   ]
  },
  {
   "cell_type": "code",
   "execution_count": 7,
   "metadata": {},
   "outputs": [
    {
     "name": "stdout",
     "output_type": "stream",
     "text": [
      "feature: all text combined\n",
      "F1: 0.45366096507074855\n",
      "\n"
     ]
    }
   ],
   "source": [
    "combined_text_cols = X_train['company_profile']+ X_train['description']+ X_train['requirements']\n",
    "print('feature: '+'all text combined'+'\\nF1: ' +str(MultinomialNB_predict(combined_text_cols,y_train))+'\\n')"
   ]
  },
  {
   "cell_type": "markdown",
   "metadata": {},
   "source": [
    "Model: Logistic Regression"
   ]
  },
  {
   "cell_type": "code",
   "execution_count": 8,
   "metadata": {},
   "outputs": [
    {
     "data": {
      "text/plain": [
       "0.34650865035930445"
      ]
     },
     "execution_count": 8,
     "metadata": {},
     "output_type": "execute_result"
    }
   ],
   "source": [
    "X_train_no_words = X_train.drop(word_features, axis=1)\n",
    "logreg_model = LogisticRegression()\n",
    "cross_val_score(logreg_model,X_train_no_words,y_train, n_jobs=-1, scoring='f1').mean()"
   ]
  },
  {
   "cell_type": "markdown",
   "metadata": {},
   "source": [
    "Model: Random Forest"
   ]
  },
  {
   "cell_type": "code",
   "execution_count": 9,
   "metadata": {},
   "outputs": [
    {
     "name": "stderr",
     "output_type": "stream",
     "text": [
      "/home/joe/anaconda3/lib/python3.7/site-packages/sklearn/model_selection/_validation.py:515: DataConversionWarning: A column-vector y was passed when a 1d array was expected. Please change the shape of y to (n_samples,), for example using ravel().\n",
      "  estimator.fit(X_train, y_train, **fit_params)\n",
      "/home/joe/anaconda3/lib/python3.7/site-packages/sklearn/model_selection/_validation.py:515: DataConversionWarning: A column-vector y was passed when a 1d array was expected. Please change the shape of y to (n_samples,), for example using ravel().\n",
      "  estimator.fit(X_train, y_train, **fit_params)\n",
      "/home/joe/anaconda3/lib/python3.7/site-packages/sklearn/model_selection/_validation.py:515: DataConversionWarning: A column-vector y was passed when a 1d array was expected. Please change the shape of y to (n_samples,), for example using ravel().\n",
      "  estimator.fit(X_train, y_train, **fit_params)\n",
      "/home/joe/anaconda3/lib/python3.7/site-packages/sklearn/model_selection/_validation.py:515: DataConversionWarning: A column-vector y was passed when a 1d array was expected. Please change the shape of y to (n_samples,), for example using ravel().\n",
      "  estimator.fit(X_train, y_train, **fit_params)\n",
      "/home/joe/anaconda3/lib/python3.7/site-packages/sklearn/model_selection/_validation.py:515: DataConversionWarning: A column-vector y was passed when a 1d array was expected. Please change the shape of y to (n_samples,), for example using ravel().\n",
      "  estimator.fit(X_train, y_train, **fit_params)\n"
     ]
    },
    {
     "data": {
      "text/plain": [
       "0.6967566506144455"
      ]
     },
     "execution_count": 9,
     "metadata": {},
     "output_type": "execute_result"
    }
   ],
   "source": [
    "randforest_model = RandomForestClassifier()\n",
    "cross_val_score(randforest_model,X_train_no_words,y_train, n_jobs=-1, scoring='f1').mean()"
   ]
  },
  {
   "cell_type": "markdown",
   "metadata": {},
   "source": [
    "Conclusion: Best model and performance on hold-out data"
   ]
  },
  {
   "cell_type": "markdown",
   "metadata": {},
   "source": [
    "Our best model so far (measured by F1 score) has been the out of the box RandomForestClassifier from sklearn, using the non-word data. I'd like to end the modelling section by training this model on all of our training data and then scoring based on the test data."
   ]
  },
  {
   "cell_type": "code",
   "execution_count": 10,
   "metadata": {},
   "outputs": [
    {
     "name": "stderr",
     "output_type": "stream",
     "text": [
      "/home/joe/anaconda3/lib/python3.7/site-packages/ipykernel_launcher.py:2: DataConversionWarning: A column-vector y was passed when a 1d array was expected. Please change the shape of y to (n_samples,), for example using ravel().\n",
      "  \n"
     ]
    },
    {
     "name": "stdout",
     "output_type": "stream",
     "text": [
      "              precision    recall  f1-score   support\n",
      "\n",
      "           0       0.98      1.00      0.99      3777\n",
      "           1       0.98      0.60      0.74       196\n",
      "\n",
      "    accuracy                           0.98      3973\n",
      "   macro avg       0.98      0.80      0.87      3973\n",
      "weighted avg       0.98      0.98      0.98      3973\n",
      "\n"
     ]
    }
   ],
   "source": [
    "final_model = RandomForestClassifier()\n",
    "final_model.fit(X_train_no_words, y_train)\n",
    "X_test_no_words = X_test.drop(word_features, axis=1)\n",
    "y_pred = final_model.predict(X_test_no_words)\n",
    "print(metrics.classification_report(y_test, y_pred))"
   ]
  },
  {
   "cell_type": "code",
   "execution_count": 11,
   "metadata": {},
   "outputs": [
    {
     "name": "stdout",
     "output_type": "stream",
     "text": [
      "[[3774    3]\n",
      " [  78  118]]\n"
     ]
    }
   ],
   "source": [
    "print(metrics.confusion_matrix(y_test,y_pred))"
   ]
  },
  {
   "cell_type": "markdown",
   "metadata": {},
   "source": [
    "The performance is about as good as I was hoping for!"
   ]
  }
 ],
 "metadata": {
  "kernelspec": {
   "display_name": "Python 3",
   "language": "python",
   "name": "python3"
  },
  "language_info": {
   "codemirror_mode": {
    "name": "ipython",
    "version": 3
   },
   "file_extension": ".py",
   "mimetype": "text/x-python",
   "name": "python",
   "nbconvert_exporter": "python",
   "pygments_lexer": "ipython3",
   "version": "3.7.6"
  }
 },
 "nbformat": 4,
 "nbformat_minor": 4
}
