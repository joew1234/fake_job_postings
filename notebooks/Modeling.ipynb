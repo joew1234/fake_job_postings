{
 "cells": [
  {
   "cell_type": "code",
   "execution_count": 1,
   "metadata": {},
   "outputs": [],
   "source": [
    "#load python packages\n",
    "import os\n",
    "import pandas as pd\n",
    "import matplotlib.pyplot as plt\n",
    "import seaborn as sns\n",
    "import numpy as np\n",
    "from sklearn.naive_bayes import MultinomialNB\n",
    "from sklearn.linear_model import LogisticRegression\n",
    "from sklearn.ensemble import RandomForestClassifier\n",
    "from sklearn import metrics\n",
    "from sklearn.feature_extraction.text import CountVectorizer\n",
    "from sklearn.model_selection import cross_val_score"
   ]
  },
  {
   "cell_type": "code",
   "execution_count": 2,
   "metadata": {},
   "outputs": [],
   "source": [
    "#This is a hack to cut down on the pandas/sklearn warnings.\n",
    "#My notebook runs fine so I wanted to make it more readable.\n",
    "def warn(*args, **kwargs):\n",
    "    pass\n",
    "import warnings\n",
    "warnings.warn = warn"
   ]
  },
  {
   "cell_type": "code",
   "execution_count": 3,
   "metadata": {},
   "outputs": [],
   "source": [
    "def get_file(file_name):\n",
    "    path = os.getcwd()\n",
    "    path += \"/../data/processed/\"+file_name\n",
    "    #have to eval text columns (which are currently lists of strings) or pandas will read a list as one big string instead\n",
    "    df = pd.read_csv(path, index_col='job_id',\\\n",
    "                     converters={'company_profile': eval,'description': eval, 'requirements':eval})\n",
    "    return df"
   ]
  },
  {
   "cell_type": "code",
   "execution_count": 4,
   "metadata": {},
   "outputs": [],
   "source": [
    "X_train = get_file('fake_job_postings_X_train.csv')\n",
    "y_train = get_file('fake_job_postings_y_train.csv')\n",
    "X_test = get_file('fake_job_postings_X_test.csv')\n",
    "y_test = get_file('fake_job_postings_y_test.csv')"
   ]
  },
  {
   "cell_type": "markdown",
   "metadata": {},
   "source": [
    "Model: Naive Bayes"
   ]
  },
  {
   "cell_type": "code",
   "execution_count": 5,
   "metadata": {},
   "outputs": [],
   "source": [
    "def MultinomialNB_predict(df_col,y):\n",
    "    df_col_together = df_col.str.join(sep=' ')\n",
    "    cv = CountVectorizer()\n",
    "    df_col_tf = cv.fit_transform(df_col_together)\n",
    "    mnb = MultinomialNB()\n",
    "    return cross_val_score(mnb,df_col_tf,y, n_jobs=-1, scoring='f1').mean()"
   ]
  },
  {
   "cell_type": "code",
   "execution_count": 6,
   "metadata": {},
   "outputs": [
    {
     "name": "stdout",
     "output_type": "stream",
     "text": [
      "feature: company_profile\n",
      "F1: 0.3661781462868491\n",
      "\n",
      "feature: description\n",
      "F1: 0.36058733496247414\n",
      "\n",
      "feature: requirements\n",
      "F1: 0.21513278384806314\n",
      "\n"
     ]
    }
   ],
   "source": [
    "word_features = ['company_profile', 'description', 'requirements'] \n",
    "for feature in word_features:\n",
    "    print('feature: '+feature+'\\nF1: ' +str(MultinomialNB_predict(X_train[feature],y_train))+'\\n')"
   ]
  },
  {
   "cell_type": "code",
   "execution_count": 7,
   "metadata": {},
   "outputs": [
    {
     "name": "stdout",
     "output_type": "stream",
     "text": [
      "feature: all text combined\n",
      "F1: 0.45366096507074855\n",
      "\n"
     ]
    }
   ],
   "source": [
    "combined_text_cols = X_train['company_profile']+ X_train['description']+ X_train['requirements']\n",
    "print('feature: '+'all text combined'+'\\nF1: ' +str(MultinomialNB_predict(combined_text_cols,y_train))+'\\n')"
   ]
  },
  {
   "cell_type": "markdown",
   "metadata": {},
   "source": [
    "Model: Logistic Regression"
   ]
  },
  {
   "cell_type": "code",
   "execution_count": 8,
   "metadata": {},
   "outputs": [
    {
     "data": {
      "text/plain": [
       "0.34650865035930445"
      ]
     },
     "execution_count": 8,
     "metadata": {},
     "output_type": "execute_result"
    }
   ],
   "source": [
    "X_train_no_words = X_train.drop(word_features, axis=1)\n",
    "logreg_model = LogisticRegression()\n",
    "cross_val_score(logreg_model,X_train_no_words,y_train, n_jobs=-1, scoring='f1').mean()"
   ]
  },
  {
   "cell_type": "markdown",
   "metadata": {},
   "source": [
    "Model: Random Forest"
   ]
  },
  {
   "cell_type": "code",
   "execution_count": 9,
   "metadata": {},
   "outputs": [
    {
     "name": "stderr",
     "output_type": "stream",
     "text": [
      "/home/joe/anaconda3/lib/python3.7/site-packages/sklearn/model_selection/_validation.py:515: DataConversionWarning: A column-vector y was passed when a 1d array was expected. Please change the shape of y to (n_samples,), for example using ravel().\n",
      "  estimator.fit(X_train, y_train, **fit_params)\n",
      "/home/joe/anaconda3/lib/python3.7/site-packages/sklearn/model_selection/_validation.py:515: DataConversionWarning: A column-vector y was passed when a 1d array was expected. Please change the shape of y to (n_samples,), for example using ravel().\n",
      "  estimator.fit(X_train, y_train, **fit_params)\n",
      "/home/joe/anaconda3/lib/python3.7/site-packages/sklearn/model_selection/_validation.py:515: DataConversionWarning: A column-vector y was passed when a 1d array was expected. Please change the shape of y to (n_samples,), for example using ravel().\n",
      "  estimator.fit(X_train, y_train, **fit_params)\n",
      "/home/joe/anaconda3/lib/python3.7/site-packages/sklearn/model_selection/_validation.py:515: DataConversionWarning: A column-vector y was passed when a 1d array was expected. Please change the shape of y to (n_samples,), for example using ravel().\n",
      "  estimator.fit(X_train, y_train, **fit_params)\n",
      "/home/joe/anaconda3/lib/python3.7/site-packages/sklearn/model_selection/_validation.py:515: DataConversionWarning: A column-vector y was passed when a 1d array was expected. Please change the shape of y to (n_samples,), for example using ravel().\n",
      "  estimator.fit(X_train, y_train, **fit_params)\n"
     ]
    },
    {
     "data": {
      "text/plain": [
       "0.698987589078389"
      ]
     },
     "execution_count": 9,
     "metadata": {},
     "output_type": "execute_result"
    }
   ],
   "source": [
    "randforest_model = RandomForestClassifier()\n",
    "cross_val_score(randforest_model,X_train_no_words,y_train, n_jobs=-1, scoring='f1').mean()"
   ]
  },
  {
   "cell_type": "markdown",
   "metadata": {},
   "source": [
    "Conclusion: Best model and performance on hold-out data"
   ]
  },
  {
   "cell_type": "markdown",
   "metadata": {},
   "source": [
    "Our best model so far (measured by F1 score) has been the out of the box RandomForestClassifier from sklearn, using the non-word data. I'd like to end the modelling section by training this model on all of our training data and then scoring based on the test data."
   ]
  },
  {
   "cell_type": "code",
   "execution_count": 10,
   "metadata": {},
   "outputs": [
    {
     "name": "stderr",
     "output_type": "stream",
     "text": [
      "/home/joe/anaconda3/lib/python3.7/site-packages/ipykernel_launcher.py:2: DataConversionWarning: A column-vector y was passed when a 1d array was expected. Please change the shape of y to (n_samples,), for example using ravel().\n",
      "  \n"
     ]
    },
    {
     "name": "stdout",
     "output_type": "stream",
     "text": [
      "              precision    recall  f1-score   support\n",
      "\n",
      "           0       0.98      1.00      0.99      3777\n",
      "           1       0.96      0.61      0.75       196\n",
      "\n",
      "    accuracy                           0.98      3973\n",
      "   macro avg       0.97      0.81      0.87      3973\n",
      "weighted avg       0.98      0.98      0.98      3973\n",
      "\n"
     ]
    }
   ],
   "source": [
    "final_model = RandomForestClassifier()\n",
    "final_model.fit(X_train_no_words, y_train)\n",
    "X_test_no_words = X_test.drop(word_features, axis=1)\n",
    "y_pred = final_model.predict(X_test_no_words)\n",
    "print(metrics.classification_report(y_test, y_pred))"
   ]
  },
  {
   "cell_type": "code",
   "execution_count": 11,
   "metadata": {},
   "outputs": [
    {
     "name": "stdout",
     "output_type": "stream",
     "text": [
      "[[3772    5]\n",
      " [  76  120]]\n"
     ]
    }
   ],
   "source": [
    "print(metrics.confusion_matrix(y_test,y_pred))"
   ]
  },
  {
   "cell_type": "markdown",
   "metadata": {},
   "source": [
    "The performance is about as good as I was hoping for!"
   ]
  },
  {
   "cell_type": "code",
   "execution_count": 12,
   "metadata": {},
   "outputs": [
    {
     "name": "stdout",
     "output_type": "stream",
     "text": [
      "Feature ranking:\n",
      "1. feature description_length (0.135142)\n",
      "2. feature requirements_length (0.104818)\n",
      "3. feature company_profile_length (0.103859)\n",
      "4. feature has_company_logo (0.052014)\n",
      "5. feature title_data (0.030914)\n",
      "6. feature has_benefits (0.027139)\n",
      "7. feature function_Administrative (0.024997)\n",
      "8. feature has_questions (0.024536)\n",
      "9. feature has_department (0.023672)\n",
      "10. feature has_required_experience (0.022592)\n",
      "11. feature Country_US (0.020131)\n",
      "12. feature has_salary_range (0.018361)\n",
      "13. feature has_required_education (0.017039)\n",
      "14. feature function_Other (0.016808)\n",
      "15. feature State_Other (0.016436)\n",
      "16. feature function_Engineering (0.015513)\n",
      "17. feature employment_type_Full-time (0.015486)\n",
      "18. feature employment_type_Part-time (0.015457)\n",
      "19. feature industry_Other (0.014661)\n",
      "20. feature City_  (0.013235)\n",
      "21. feature State_ CA (0.011830)\n",
      "22. feature employment_type_Other (0.011762)\n",
      "23. feature City_Other (0.011590)\n",
      "24. feature Country_Other (0.010031)\n",
      "25. feature title_manager (0.009694)\n",
      "26. feature title_assistant (0.009620)\n",
      "27. feature industry_Hospital & Health Care (0.009579)\n",
      "28. feature telecommuting (0.009259)\n",
      "29. feature industry_Marketing and Advertising (0.009235)\n",
      "30. feature title_engineer (0.008921)\n",
      "31. feature title_sales (0.008456)\n",
      "32. feature function_Customer Service (0.008182)\n",
      "33. feature employment_type_Contract (0.007992)\n",
      "34. feature State_  (0.007574)\n",
      "35. feature State_ NY (0.007468)\n",
      "36. feature title_service (0.007439)\n",
      "37. feature title_representative (0.007010)\n",
      "38. feature title_developer (0.006896)\n",
      "39. feature title_customer (0.006865)\n",
      "40. feature title_director (0.006762)\n",
      "41. feature function_Sales (0.006124)\n",
      "42. feature function_Information Technology (0.005822)\n",
      "43. feature title_project (0.005715)\n",
      "44. feature Country_GB (0.005647)\n",
      "45. feature industry_Financial Services (0.005513)\n",
      "46. feature industry_Information Technology and Services (0.005244)\n",
      "47. feature industry_Consumer Services (0.004554)\n",
      "48. feature industry_Telecommunications (0.004500)\n",
      "49. feature title_specialist (0.003976)\n",
      "50. feature industry_Computer Software (0.003893)\n",
      "51. feature title_senior (0.003788)\n",
      "52. feature title_software (0.003608)\n",
      "53. feature title_marketing (0.003417)\n",
      "54. feature title_executive (0.003357)\n",
      "55. feature title_associate (0.003343)\n",
      "56. feature title_lead (0.003337)\n",
      "57. feature City_ New York (0.003150)\n",
      "58. feature function_Marketing (0.002672)\n",
      "59. feature Country_CA (0.002550)\n",
      "60. feature title_analyst (0.002548)\n",
      "61. feature title_account (0.002456)\n",
      "62. feature title_development (0.002448)\n",
      "63. feature title_business (0.002410)\n",
      "64. feature industry_Internet (0.002248)\n",
      "65. feature title_consultant (0.002227)\n",
      "66. feature Country_GR (0.002087)\n",
      "67. feature title_support (0.001623)\n",
      "68. feature title_product (0.001612)\n",
      "69. feature title_designer (0.001489)\n",
      "70. feature State_ LND (0.001441)\n",
      "71. feature function_Health Care Provider (0.001294)\n",
      "72. feature title_intern (0.001235)\n",
      "73. feature title_web (0.001196)\n",
      "74. feature function_Design (0.001148)\n",
      "75. feature City_ London (0.001051)\n",
      "76. feature employment_type_Temporary (0.000891)\n",
      "77. feature City_ Athens (0.000595)\n",
      "78. feature function_Education (0.000414)\n",
      "79. feature title_teacher (0.000407)\n"
     ]
    }
   ],
   "source": [
    "importances = final_model.feature_importances_\n",
    "indices = np.argsort(importances)[::-1]\n",
    "print(\"Feature ranking:\")\n",
    "\n",
    "for f in range(X_train_no_words.shape[1]):\n",
    "    print(\"%d. feature %s (%f)\" % (f + 1, list(X_train_no_words.columns)[(indices[f])], importances[indices[f]]))"
   ]
  },
  {
   "cell_type": "markdown",
   "metadata": {},
   "source": [
    "Full performance metrics of my other two models:"
   ]
  },
  {
   "cell_type": "code",
   "execution_count": 16,
   "metadata": {},
   "outputs": [
    {
     "data": {
      "text/plain": [
       "MultinomialNB(alpha=1.0, class_prior=None, fit_prior=True)"
      ]
     },
     "execution_count": 16,
     "metadata": {},
     "output_type": "execute_result"
    }
   ],
   "source": [
    "#Naive Bayes\n",
    "df = combined_text_cols.str.join(sep=' ')\n",
    "cv = CountVectorizer()\n",
    "df_tf = cv.fit_transform(df)\n",
    "NBmodel = MultinomialNB()\n",
    "NBmodel.fit(df_tf,y_train)"
   ]
  },
  {
   "cell_type": "code",
   "execution_count": 18,
   "metadata": {},
   "outputs": [],
   "source": [
    "text_col_combined = X_test['company_profile']+ X_test['description']+ X_test['requirements']\n",
    "df_test = text_col_combined.str.join(sep=' ')\n",
    "df_test_tf = cv.transform(df_test)\n",
    "y_pred = NBmodel.predict(df_test_tf)"
   ]
  },
  {
   "cell_type": "code",
   "execution_count": 19,
   "metadata": {},
   "outputs": [
    {
     "name": "stdout",
     "output_type": "stream",
     "text": [
      "              precision    recall  f1-score   support\n",
      "\n",
      "           0       0.97      1.00      0.98      3777\n",
      "           1       0.93      0.38      0.54       196\n",
      "\n",
      "    accuracy                           0.97      3973\n",
      "   macro avg       0.95      0.69      0.76      3973\n",
      "weighted avg       0.97      0.97      0.96      3973\n",
      "\n",
      "[[3771    6]\n",
      " [ 122   74]]\n"
     ]
    }
   ],
   "source": [
    "print(metrics.classification_report(y_test, y_pred))\n",
    "print(metrics.confusion_matrix(y_test,y_pred))"
   ]
  },
  {
   "cell_type": "code",
   "execution_count": 22,
   "metadata": {},
   "outputs": [],
   "source": [
    "#Logistic Regression\n",
    "X_train_no_words = X_train.drop(word_features, axis=1)\n",
    "X_test_no_words = X_test.drop(word_features, axis=1)\n",
    "LRmodel = LogisticRegression()\n",
    "LRmodel.fit(X_train_no_words, y_train)\n",
    "y_pred = LRmodel.predict(X_test_no_words)"
   ]
  },
  {
   "cell_type": "code",
   "execution_count": 23,
   "metadata": {},
   "outputs": [
    {
     "name": "stdout",
     "output_type": "stream",
     "text": [
      "              precision    recall  f1-score   support\n",
      "\n",
      "           0       0.96      0.99      0.98      3777\n",
      "           1       0.73      0.29      0.41       196\n",
      "\n",
      "    accuracy                           0.96      3973\n",
      "   macro avg       0.85      0.64      0.69      3973\n",
      "weighted avg       0.95      0.96      0.95      3973\n",
      "\n",
      "[[3756   21]\n",
      " [ 140   56]]\n"
     ]
    }
   ],
   "source": [
    "print(metrics.classification_report(y_test, y_pred))\n",
    "print(metrics.confusion_matrix(y_test,y_pred))"
   ]
  }
 ],
 "metadata": {
  "kernelspec": {
   "display_name": "Python 3",
   "language": "python",
   "name": "python3"
  },
  "language_info": {
   "codemirror_mode": {
    "name": "ipython",
    "version": 3
   },
   "file_extension": ".py",
   "mimetype": "text/x-python",
   "name": "python",
   "nbconvert_exporter": "python",
   "pygments_lexer": "ipython3",
   "version": "3.7.6"
  }
 },
 "nbformat": 4,
 "nbformat_minor": 4
}
